{
 "cells": [
  {
   "cell_type": "code",
   "execution_count": 70,
   "metadata": {},
   "outputs": [
    {
     "name": "stderr",
     "output_type": "stream",
     "text": [
      "C:\\Users\\Kirill\\AppData\\Local\\Temp\\ipykernel_9204\\2363466283.py:39: UserWarning: impressionist_landscapes_resized_1024_filtered\\alfred-sisley_banks-of-the-loing-autumn-1880.jpg is a low contrast image\n",
      "  ski.io.imsave(filtered_image_path, image)\n",
      "C:\\Users\\Kirill\\AppData\\Local\\Temp\\ipykernel_9204\\2363466283.py:39: UserWarning: impressionist_landscapes_resized_1024_filtered\\alfred-william-finch_the-cliffs-of-dover-the-cliffs-at-south-foreland-1892.jpg is a low contrast image\n",
      "  ski.io.imsave(filtered_image_path, image)\n",
      "C:\\Users\\Kirill\\AppData\\Local\\Temp\\ipykernel_9204\\2363466283.py:39: UserWarning: impressionist_landscapes_resized_1024_filtered\\camille-pissarro_sunset-at-eragny-1902.jpg is a low contrast image\n",
      "  ski.io.imsave(filtered_image_path, image)\n"
     ]
    },
    {
     "ename": "KeyboardInterrupt",
     "evalue": "",
     "output_type": "error",
     "traceback": [
      "\u001b[1;31m---------------------------------------------------------------------------\u001b[0m",
      "\u001b[1;31mKeyboardInterrupt\u001b[0m                         Traceback (most recent call last)",
      "Cell \u001b[1;32mIn [70], line 22\u001b[0m\n\u001b[0;32m     19\u001b[0m image \u001b[38;5;241m=\u001b[39m ski\u001b[38;5;241m.\u001b[39mio\u001b[38;5;241m.\u001b[39mimread(image_path)\n\u001b[0;32m     21\u001b[0m \u001b[38;5;66;03m# Apply SLIC segmentation (based on K-Means x,y,z and )\u001b[39;00m\n\u001b[1;32m---> 22\u001b[0m image_segments \u001b[38;5;241m=\u001b[39m \u001b[43mslic\u001b[49m\u001b[43m(\u001b[49m\u001b[43mimage\u001b[49m\u001b[43m,\u001b[49m\u001b[43m \u001b[49m\u001b[43mn_segments\u001b[49m\u001b[38;5;241;43m=\u001b[39;49m\u001b[38;5;241;43m1000\u001b[39;49m\u001b[43m,\u001b[49m\u001b[43m \u001b[49m\u001b[43mcompactness\u001b[49m\u001b[38;5;241;43m=\u001b[39;49m\u001b[38;5;241;43m0.1\u001b[39;49m\u001b[43m)\u001b[49m\n\u001b[0;32m     24\u001b[0m \u001b[38;5;66;03m# Create an itterator from the image segements\u001b[39;00m\n\u001b[0;32m     25\u001b[0m iterator \u001b[38;5;241m=\u001b[39m np\u001b[38;5;241m.\u001b[39mnditer(image_segments, flags\u001b[38;5;241m=\u001b[39m[\u001b[38;5;124m\"\u001b[39m\u001b[38;5;124mmulti_index\u001b[39m\u001b[38;5;124m\"\u001b[39m])\n",
      "File \u001b[1;32mc:\\Users\\Kirill\\AppData\\Local\\Programs\\Python\\Python39\\lib\\site-packages\\skimage\\_shared\\utils.py:316\u001b[0m, in \u001b[0;36mchannel_as_last_axis.__call__.<locals>.fixed_func\u001b[1;34m(*args, **kwargs)\u001b[0m\n\u001b[0;32m    313\u001b[0m channel_axis \u001b[38;5;241m=\u001b[39m kwargs\u001b[38;5;241m.\u001b[39mget(\u001b[38;5;124m'\u001b[39m\u001b[38;5;124mchannel_axis\u001b[39m\u001b[38;5;124m'\u001b[39m, \u001b[38;5;28;01mNone\u001b[39;00m)\n\u001b[0;32m    315\u001b[0m \u001b[38;5;28;01mif\u001b[39;00m channel_axis \u001b[38;5;129;01mis\u001b[39;00m \u001b[38;5;28;01mNone\u001b[39;00m:\n\u001b[1;32m--> 316\u001b[0m     \u001b[38;5;28;01mreturn\u001b[39;00m func(\u001b[38;5;241m*\u001b[39margs, \u001b[38;5;241m*\u001b[39m\u001b[38;5;241m*\u001b[39mkwargs)\n\u001b[0;32m    318\u001b[0m \u001b[38;5;66;03m# TODO: convert scalars to a tuple in anticipation of eventually\u001b[39;00m\n\u001b[0;32m    319\u001b[0m \u001b[38;5;66;03m#       supporting a tuple of channel axes. Right now, only an\u001b[39;00m\n\u001b[0;32m    320\u001b[0m \u001b[38;5;66;03m#       integer or a single-element tuple is supported, though.\u001b[39;00m\n\u001b[0;32m    321\u001b[0m \u001b[38;5;28;01mif\u001b[39;00m np\u001b[38;5;241m.\u001b[39misscalar(channel_axis):\n",
      "File \u001b[1;32mc:\\Users\\Kirill\\AppData\\Local\\Programs\\Python\\Python39\\lib\\site-packages\\skimage\\segmentation\\slic_superpixels.py:309\u001b[0m, in \u001b[0;36mslic\u001b[1;34m(image, n_segments, compactness, max_num_iter, sigma, spacing, convert2lab, enforce_connectivity, min_size_factor, max_size_factor, slic_zero, start_label, mask, channel_axis)\u001b[0m\n\u001b[0;32m    307\u001b[0m         \u001b[38;5;28;01mraise\u001b[39;00m \u001b[38;5;167;01mValueError\u001b[39;00m(\u001b[38;5;124m\"\u001b[39m\u001b[38;5;124mLab colorspace conversion requires a RGB image.\u001b[39m\u001b[38;5;124m\"\u001b[39m)\n\u001b[0;32m    308\u001b[0m     \u001b[38;5;28;01melif\u001b[39;00m image\u001b[38;5;241m.\u001b[39mshape[channel_axis] \u001b[38;5;241m==\u001b[39m \u001b[38;5;241m3\u001b[39m:\n\u001b[1;32m--> 309\u001b[0m         image \u001b[38;5;241m=\u001b[39m \u001b[43mrgb2lab\u001b[49m\u001b[43m(\u001b[49m\u001b[43mimage\u001b[49m\u001b[43m)\u001b[49m\n\u001b[0;32m    311\u001b[0m \u001b[38;5;28;01mif\u001b[39;00m start_label \u001b[38;5;129;01mnot\u001b[39;00m \u001b[38;5;129;01min\u001b[39;00m [\u001b[38;5;241m0\u001b[39m, \u001b[38;5;241m1\u001b[39m]:\n\u001b[0;32m    312\u001b[0m     \u001b[38;5;28;01mraise\u001b[39;00m \u001b[38;5;167;01mValueError\u001b[39;00m(\u001b[38;5;124m\"\u001b[39m\u001b[38;5;124mstart_label should be 0 or 1.\u001b[39m\u001b[38;5;124m\"\u001b[39m)\n",
      "File \u001b[1;32mc:\\Users\\Kirill\\AppData\\Local\\Programs\\Python\\Python39\\lib\\site-packages\\skimage\\_shared\\utils.py:316\u001b[0m, in \u001b[0;36mchannel_as_last_axis.__call__.<locals>.fixed_func\u001b[1;34m(*args, **kwargs)\u001b[0m\n\u001b[0;32m    313\u001b[0m channel_axis \u001b[38;5;241m=\u001b[39m kwargs\u001b[38;5;241m.\u001b[39mget(\u001b[38;5;124m'\u001b[39m\u001b[38;5;124mchannel_axis\u001b[39m\u001b[38;5;124m'\u001b[39m, \u001b[38;5;28;01mNone\u001b[39;00m)\n\u001b[0;32m    315\u001b[0m \u001b[38;5;28;01mif\u001b[39;00m channel_axis \u001b[38;5;129;01mis\u001b[39;00m \u001b[38;5;28;01mNone\u001b[39;00m:\n\u001b[1;32m--> 316\u001b[0m     \u001b[38;5;28;01mreturn\u001b[39;00m func(\u001b[38;5;241m*\u001b[39margs, \u001b[38;5;241m*\u001b[39m\u001b[38;5;241m*\u001b[39mkwargs)\n\u001b[0;32m    318\u001b[0m \u001b[38;5;66;03m# TODO: convert scalars to a tuple in anticipation of eventually\u001b[39;00m\n\u001b[0;32m    319\u001b[0m \u001b[38;5;66;03m#       supporting a tuple of channel axes. Right now, only an\u001b[39;00m\n\u001b[0;32m    320\u001b[0m \u001b[38;5;66;03m#       integer or a single-element tuple is supported, though.\u001b[39;00m\n\u001b[0;32m    321\u001b[0m \u001b[38;5;28;01mif\u001b[39;00m np\u001b[38;5;241m.\u001b[39misscalar(channel_axis):\n",
      "File \u001b[1;32mc:\\Users\\Kirill\\AppData\\Local\\Programs\\Python\\Python39\\lib\\site-packages\\skimage\\color\\colorconv.py:1253\u001b[0m, in \u001b[0;36mrgb2lab\u001b[1;34m(rgb, illuminant, observer, channel_axis)\u001b[0m\n\u001b[0;32m   1207\u001b[0m \u001b[38;5;129m@channel_as_last_axis\u001b[39m()\n\u001b[0;32m   1208\u001b[0m \u001b[38;5;28;01mdef\u001b[39;00m \u001b[38;5;21mrgb2lab\u001b[39m(rgb, illuminant\u001b[38;5;241m=\u001b[39m\u001b[38;5;124m\"\u001b[39m\u001b[38;5;124mD65\u001b[39m\u001b[38;5;124m\"\u001b[39m, observer\u001b[38;5;241m=\u001b[39m\u001b[38;5;124m\"\u001b[39m\u001b[38;5;124m2\u001b[39m\u001b[38;5;124m\"\u001b[39m, \u001b[38;5;241m*\u001b[39m, channel_axis\u001b[38;5;241m=\u001b[39m\u001b[38;5;241m-\u001b[39m\u001b[38;5;241m1\u001b[39m):\n\u001b[0;32m   1209\u001b[0m     \u001b[38;5;124;03m\"\"\"Conversion from the sRGB color space (IEC 61966-2-1:1999)\u001b[39;00m\n\u001b[0;32m   1210\u001b[0m \u001b[38;5;124;03m    to the CIE Lab colorspace under the given illuminant and observer.\u001b[39;00m\n\u001b[0;32m   1211\u001b[0m \n\u001b[1;32m   (...)\u001b[0m\n\u001b[0;32m   1251\u001b[0m \u001b[38;5;124;03m    .. [1] https://en.wikipedia.org/wiki/Standard_illuminant\u001b[39;00m\n\u001b[0;32m   1252\u001b[0m \u001b[38;5;124;03m    \"\"\"\u001b[39;00m\n\u001b[1;32m-> 1253\u001b[0m     \u001b[38;5;28;01mreturn\u001b[39;00m xyz2lab(\u001b[43mrgb2xyz\u001b[49m\u001b[43m(\u001b[49m\u001b[43mrgb\u001b[49m\u001b[43m)\u001b[49m, illuminant, observer)\n",
      "File \u001b[1;32mc:\\Users\\Kirill\\AppData\\Local\\Programs\\Python\\Python39\\lib\\site-packages\\skimage\\_shared\\utils.py:316\u001b[0m, in \u001b[0;36mchannel_as_last_axis.__call__.<locals>.fixed_func\u001b[1;34m(*args, **kwargs)\u001b[0m\n\u001b[0;32m    313\u001b[0m channel_axis \u001b[38;5;241m=\u001b[39m kwargs\u001b[38;5;241m.\u001b[39mget(\u001b[38;5;124m'\u001b[39m\u001b[38;5;124mchannel_axis\u001b[39m\u001b[38;5;124m'\u001b[39m, \u001b[38;5;28;01mNone\u001b[39;00m)\n\u001b[0;32m    315\u001b[0m \u001b[38;5;28;01mif\u001b[39;00m channel_axis \u001b[38;5;129;01mis\u001b[39;00m \u001b[38;5;28;01mNone\u001b[39;00m:\n\u001b[1;32m--> 316\u001b[0m     \u001b[38;5;28;01mreturn\u001b[39;00m func(\u001b[38;5;241m*\u001b[39margs, \u001b[38;5;241m*\u001b[39m\u001b[38;5;241m*\u001b[39mkwargs)\n\u001b[0;32m    318\u001b[0m \u001b[38;5;66;03m# TODO: convert scalars to a tuple in anticipation of eventually\u001b[39;00m\n\u001b[0;32m    319\u001b[0m \u001b[38;5;66;03m#       supporting a tuple of channel axes. Right now, only an\u001b[39;00m\n\u001b[0;32m    320\u001b[0m \u001b[38;5;66;03m#       integer or a single-element tuple is supported, though.\u001b[39;00m\n\u001b[0;32m    321\u001b[0m \u001b[38;5;28;01mif\u001b[39;00m np\u001b[38;5;241m.\u001b[39misscalar(channel_axis):\n",
      "File \u001b[1;32mc:\\Users\\Kirill\\AppData\\Local\\Programs\\Python\\Python39\\lib\\site-packages\\skimage\\color\\colorconv.py:826\u001b[0m, in \u001b[0;36mrgb2xyz\u001b[1;34m(rgb, channel_axis)\u001b[0m\n\u001b[0;32m    824\u001b[0m arr \u001b[38;5;241m=\u001b[39m _prepare_colorarray(rgb, channel_axis\u001b[38;5;241m=\u001b[39m\u001b[38;5;241m-\u001b[39m\u001b[38;5;241m1\u001b[39m)\u001b[38;5;241m.\u001b[39mcopy()\n\u001b[0;32m    825\u001b[0m mask \u001b[38;5;241m=\u001b[39m arr \u001b[38;5;241m>\u001b[39m \u001b[38;5;241m0.04045\u001b[39m\n\u001b[1;32m--> 826\u001b[0m arr[mask] \u001b[38;5;241m=\u001b[39m np\u001b[38;5;241m.\u001b[39mpower((\u001b[43marr\u001b[49m\u001b[43m[\u001b[49m\u001b[43mmask\u001b[49m\u001b[43m]\u001b[49m\u001b[43m \u001b[49m\u001b[38;5;241;43m+\u001b[39;49m\u001b[43m \u001b[49m\u001b[38;5;241;43m0.055\u001b[39;49m) \u001b[38;5;241m/\u001b[39m \u001b[38;5;241m1.055\u001b[39m, \u001b[38;5;241m2.4\u001b[39m)\n\u001b[0;32m    827\u001b[0m arr[\u001b[38;5;241m~\u001b[39mmask] \u001b[38;5;241m/\u001b[39m\u001b[38;5;241m=\u001b[39m \u001b[38;5;241m12.92\u001b[39m\n\u001b[0;32m    828\u001b[0m \u001b[38;5;28;01mreturn\u001b[39;00m arr \u001b[38;5;241m@\u001b[39m xyz_from_rgb\u001b[38;5;241m.\u001b[39mT\u001b[38;5;241m.\u001b[39mastype(arr\u001b[38;5;241m.\u001b[39mdtype)\n",
      "\u001b[1;31mKeyboardInterrupt\u001b[0m: "
     ]
    }
   ],
   "source": [
    "from skimage.segmentation import slic, mark_boundaries, felzenszwalb\n",
    "import matplotlib.pyplot as plt\n",
    "import skimage as ski\n",
    "import numpy as np\n",
    "import os\n",
    "\n",
    "# The folder of the images\n",
    "folder_path = \"impressionist_landscapes_resized_1024\"\n",
    "\n",
    "# The folder for the images after filtering\n",
    "folder_path_filtered = \"impressionist_landscapes_resized_1024_filtered\"\n",
    "\n",
    "for filename in os.listdir(folder_path):\n",
    "\n",
    "    # Image path\n",
    "    image_path = os.path.join(folder_path, filename)\n",
    "\n",
    "    # Load an image\n",
    "    image = ski.io.imread(image_path)\n",
    "\n",
    "    # Apply SLIC segmentation (based on K-Means x,y,z and )\n",
    "    image_segments = slic(image, n_segments=1000, compactness=0.1)\n",
    "\n",
    "    # Create an itterator from the image segements\n",
    "    iterator = np.nditer(image_segments, flags=[\"multi_index\"])\n",
    "\n",
    "    # Chose randomly a segment\n",
    "    segment_num = np.random.choice(np.unique(image_segments))\n",
    "\n",
    "    # Overwrite a randomly chosen segment into white\n",
    "    for value in iterator:\n",
    "        if value == segment_num:\n",
    "            image[iterator.multi_index] = [255, 255, 255]\n",
    "            \n",
    "    # Filtered image path\n",
    "    filtered_image_path = os.path.join(folder_path_filtered, filename)\n",
    "\n",
    "    # Save a file after filtering\n",
    "    ski.io.imsave(filtered_image_path, image)\n",
    "\n"
   ]
  }
 ],
 "metadata": {
  "kernelspec": {
   "display_name": "Python 3",
   "language": "python",
   "name": "python3"
  },
  "language_info": {
   "codemirror_mode": {
    "name": "ipython",
    "version": 3
   },
   "file_extension": ".py",
   "mimetype": "text/x-python",
   "name": "python",
   "nbconvert_exporter": "python",
   "pygments_lexer": "ipython3",
   "version": "3.9.7"
  }
 },
 "nbformat": 4,
 "nbformat_minor": 2
}
